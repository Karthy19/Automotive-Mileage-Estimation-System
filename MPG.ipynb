{
 "cells": [
  {
   "cell_type": "code",
   "execution_count": 166,
   "metadata": {},
   "outputs": [],
   "source": [
    "import pandas as pd\n",
    "import numpy as np\n",
    "from sklearn import pipeline,preprocessing,metrics,model_selection,ensemble\n",
    "from sklearn.preprocessing import StandardScaler\n",
    "from sklearn.model_selection import train_test_split\n",
    "from sklearn.linear_model import LinearRegression\n",
    "from sklearn.metrics import r2_score , confusion_matrix , classification_report"
   ]
  },
  {
   "cell_type": "code",
   "execution_count": 167,
   "metadata": {},
   "outputs": [],
   "source": [
    "dataset = pd.read_csv('C:\\\\Users\\\\Karthy\\\\Desktop\\\\mpg_data_example.csv')"
   ]
  },
  {
   "cell_type": "code",
   "execution_count": 168,
   "metadata": {},
   "outputs": [
    {
     "data": {
      "text/html": [
       "<div>\n",
       "<style scoped>\n",
       "    .dataframe tbody tr th:only-of-type {\n",
       "        vertical-align: middle;\n",
       "    }\n",
       "\n",
       "    .dataframe tbody tr th {\n",
       "        vertical-align: top;\n",
       "    }\n",
       "\n",
       "    .dataframe thead th {\n",
       "        text-align: right;\n",
       "    }\n",
       "</style>\n",
       "<table border=\"1\" class=\"dataframe\">\n",
       "  <thead>\n",
       "    <tr style=\"text-align: right;\">\n",
       "      <th></th>\n",
       "      <th>mpg</th>\n",
       "      <th>cylinders</th>\n",
       "      <th>displacement</th>\n",
       "      <th>horsepower</th>\n",
       "      <th>weight</th>\n",
       "      <th>acceleration</th>\n",
       "      <th>model year</th>\n",
       "      <th>origin</th>\n",
       "      <th>car name</th>\n",
       "    </tr>\n",
       "  </thead>\n",
       "  <tbody>\n",
       "    <tr>\n",
       "      <th>0</th>\n",
       "      <td>18.0</td>\n",
       "      <td>8</td>\n",
       "      <td>307.0</td>\n",
       "      <td>130.0</td>\n",
       "      <td>3504</td>\n",
       "      <td>12.0</td>\n",
       "      <td>70</td>\n",
       "      <td>1</td>\n",
       "      <td>chevrolet chevelle malibu</td>\n",
       "    </tr>\n",
       "    <tr>\n",
       "      <th>1</th>\n",
       "      <td>15.0</td>\n",
       "      <td>8</td>\n",
       "      <td>350.0</td>\n",
       "      <td>165.0</td>\n",
       "      <td>3693</td>\n",
       "      <td>11.5</td>\n",
       "      <td>70</td>\n",
       "      <td>1</td>\n",
       "      <td>buick skylark 320</td>\n",
       "    </tr>\n",
       "    <tr>\n",
       "      <th>2</th>\n",
       "      <td>18.0</td>\n",
       "      <td>8</td>\n",
       "      <td>318.0</td>\n",
       "      <td>150.0</td>\n",
       "      <td>3436</td>\n",
       "      <td>11.0</td>\n",
       "      <td>70</td>\n",
       "      <td>1</td>\n",
       "      <td>plymouth satellite</td>\n",
       "    </tr>\n",
       "    <tr>\n",
       "      <th>3</th>\n",
       "      <td>16.0</td>\n",
       "      <td>8</td>\n",
       "      <td>304.0</td>\n",
       "      <td>150.0</td>\n",
       "      <td>3433</td>\n",
       "      <td>12.0</td>\n",
       "      <td>70</td>\n",
       "      <td>1</td>\n",
       "      <td>amc rebel sst</td>\n",
       "    </tr>\n",
       "    <tr>\n",
       "      <th>4</th>\n",
       "      <td>17.0</td>\n",
       "      <td>8</td>\n",
       "      <td>302.0</td>\n",
       "      <td>140.0</td>\n",
       "      <td>3449</td>\n",
       "      <td>10.5</td>\n",
       "      <td>70</td>\n",
       "      <td>1</td>\n",
       "      <td>ford torino</td>\n",
       "    </tr>\n",
       "  </tbody>\n",
       "</table>\n",
       "</div>"
      ],
      "text/plain": [
       "    mpg  cylinders  displacement  horsepower  weight  acceleration  \\\n",
       "0  18.0          8         307.0       130.0    3504          12.0   \n",
       "1  15.0          8         350.0       165.0    3693          11.5   \n",
       "2  18.0          8         318.0       150.0    3436          11.0   \n",
       "3  16.0          8         304.0       150.0    3433          12.0   \n",
       "4  17.0          8         302.0       140.0    3449          10.5   \n",
       "\n",
       "   model year  origin                   car name  \n",
       "0          70       1  chevrolet chevelle malibu  \n",
       "1          70       1          buick skylark 320  \n",
       "2          70       1         plymouth satellite  \n",
       "3          70       1              amc rebel sst  \n",
       "4          70       1                ford torino  "
      ]
     },
     "execution_count": 168,
     "metadata": {},
     "output_type": "execute_result"
    }
   ],
   "source": [
    "dataset.head()"
   ]
  },
  {
   "cell_type": "code",
   "execution_count": 169,
   "metadata": {},
   "outputs": [
    {
     "data": {
      "text/plain": [
       "mpg             0\n",
       "cylinders       0\n",
       "displacement    0\n",
       "horsepower      6\n",
       "weight          0\n",
       "acceleration    0\n",
       "model year      0\n",
       "origin          0\n",
       "car name        0\n",
       "dtype: int64"
      ]
     },
     "execution_count": 169,
     "metadata": {},
     "output_type": "execute_result"
    }
   ],
   "source": [
    "dataset.isnull().sum()"
   ]
  },
  {
   "cell_type": "code",
   "execution_count": 170,
   "metadata": {},
   "outputs": [
    {
     "data": {
      "text/plain": [
       "398"
      ]
     },
     "execution_count": 170,
     "metadata": {},
     "output_type": "execute_result"
    }
   ],
   "source": [
    "len(dataset)"
   ]
  },
  {
   "cell_type": "code",
   "execution_count": 171,
   "metadata": {},
   "outputs": [],
   "source": [
    "dataset = dataset.dropna()"
   ]
  },
  {
   "cell_type": "code",
   "execution_count": 172,
   "metadata": {},
   "outputs": [
    {
     "data": {
      "text/plain": [
       "mpg             0\n",
       "cylinders       0\n",
       "displacement    0\n",
       "horsepower      0\n",
       "weight          0\n",
       "acceleration    0\n",
       "model year      0\n",
       "origin          0\n",
       "car name        0\n",
       "dtype: int64"
      ]
     },
     "execution_count": 172,
     "metadata": {},
     "output_type": "execute_result"
    }
   ],
   "source": [
    "dataset.isnull().sum()"
   ]
  },
  {
   "cell_type": "code",
   "execution_count": 173,
   "metadata": {},
   "outputs": [],
   "source": [
    "X=dataset[['cylinders', 'displacement', 'horsepower', 'weight',\n",
    "       'acceleration', 'model year', 'origin']]\n",
    "Y=dataset[['mpg']]"
   ]
  },
  {
   "cell_type": "code",
   "execution_count": 174,
   "metadata": {},
   "outputs": [
    {
     "data": {
      "text/html": [
       "<div>\n",
       "<style scoped>\n",
       "    .dataframe tbody tr th:only-of-type {\n",
       "        vertical-align: middle;\n",
       "    }\n",
       "\n",
       "    .dataframe tbody tr th {\n",
       "        vertical-align: top;\n",
       "    }\n",
       "\n",
       "    .dataframe thead th {\n",
       "        text-align: right;\n",
       "    }\n",
       "</style>\n",
       "<table border=\"1\" class=\"dataframe\">\n",
       "  <thead>\n",
       "    <tr style=\"text-align: right;\">\n",
       "      <th></th>\n",
       "      <th>cylinders</th>\n",
       "      <th>displacement</th>\n",
       "      <th>horsepower</th>\n",
       "      <th>weight</th>\n",
       "      <th>acceleration</th>\n",
       "      <th>model year</th>\n",
       "      <th>origin</th>\n",
       "    </tr>\n",
       "  </thead>\n",
       "  <tbody>\n",
       "    <tr>\n",
       "      <th>0</th>\n",
       "      <td>8</td>\n",
       "      <td>307.0</td>\n",
       "      <td>130.0</td>\n",
       "      <td>3504</td>\n",
       "      <td>12.0</td>\n",
       "      <td>70</td>\n",
       "      <td>1</td>\n",
       "    </tr>\n",
       "    <tr>\n",
       "      <th>1</th>\n",
       "      <td>8</td>\n",
       "      <td>350.0</td>\n",
       "      <td>165.0</td>\n",
       "      <td>3693</td>\n",
       "      <td>11.5</td>\n",
       "      <td>70</td>\n",
       "      <td>1</td>\n",
       "    </tr>\n",
       "    <tr>\n",
       "      <th>2</th>\n",
       "      <td>8</td>\n",
       "      <td>318.0</td>\n",
       "      <td>150.0</td>\n",
       "      <td>3436</td>\n",
       "      <td>11.0</td>\n",
       "      <td>70</td>\n",
       "      <td>1</td>\n",
       "    </tr>\n",
       "    <tr>\n",
       "      <th>3</th>\n",
       "      <td>8</td>\n",
       "      <td>304.0</td>\n",
       "      <td>150.0</td>\n",
       "      <td>3433</td>\n",
       "      <td>12.0</td>\n",
       "      <td>70</td>\n",
       "      <td>1</td>\n",
       "    </tr>\n",
       "    <tr>\n",
       "      <th>4</th>\n",
       "      <td>8</td>\n",
       "      <td>302.0</td>\n",
       "      <td>140.0</td>\n",
       "      <td>3449</td>\n",
       "      <td>10.5</td>\n",
       "      <td>70</td>\n",
       "      <td>1</td>\n",
       "    </tr>\n",
       "  </tbody>\n",
       "</table>\n",
       "</div>"
      ],
      "text/plain": [
       "   cylinders  displacement  horsepower  weight  acceleration  model year  \\\n",
       "0          8         307.0       130.0    3504          12.0          70   \n",
       "1          8         350.0       165.0    3693          11.5          70   \n",
       "2          8         318.0       150.0    3436          11.0          70   \n",
       "3          8         304.0       150.0    3433          12.0          70   \n",
       "4          8         302.0       140.0    3449          10.5          70   \n",
       "\n",
       "   origin  \n",
       "0       1  \n",
       "1       1  \n",
       "2       1  \n",
       "3       1  \n",
       "4       1  "
      ]
     },
     "execution_count": 174,
     "metadata": {},
     "output_type": "execute_result"
    }
   ],
   "source": [
    "X.head()"
   ]
  },
  {
   "cell_type": "code",
   "execution_count": 175,
   "metadata": {},
   "outputs": [
    {
     "data": {
      "text/html": [
       "<div>\n",
       "<style scoped>\n",
       "    .dataframe tbody tr th:only-of-type {\n",
       "        vertical-align: middle;\n",
       "    }\n",
       "\n",
       "    .dataframe tbody tr th {\n",
       "        vertical-align: top;\n",
       "    }\n",
       "\n",
       "    .dataframe thead th {\n",
       "        text-align: right;\n",
       "    }\n",
       "</style>\n",
       "<table border=\"1\" class=\"dataframe\">\n",
       "  <thead>\n",
       "    <tr style=\"text-align: right;\">\n",
       "      <th></th>\n",
       "      <th>mpg</th>\n",
       "    </tr>\n",
       "  </thead>\n",
       "  <tbody>\n",
       "    <tr>\n",
       "      <th>0</th>\n",
       "      <td>18.0</td>\n",
       "    </tr>\n",
       "    <tr>\n",
       "      <th>1</th>\n",
       "      <td>15.0</td>\n",
       "    </tr>\n",
       "    <tr>\n",
       "      <th>2</th>\n",
       "      <td>18.0</td>\n",
       "    </tr>\n",
       "    <tr>\n",
       "      <th>3</th>\n",
       "      <td>16.0</td>\n",
       "    </tr>\n",
       "    <tr>\n",
       "      <th>4</th>\n",
       "      <td>17.0</td>\n",
       "    </tr>\n",
       "  </tbody>\n",
       "</table>\n",
       "</div>"
      ],
      "text/plain": [
       "    mpg\n",
       "0  18.0\n",
       "1  15.0\n",
       "2  18.0\n",
       "3  16.0\n",
       "4  17.0"
      ]
     },
     "execution_count": 175,
     "metadata": {},
     "output_type": "execute_result"
    }
   ],
   "source": [
    "Y.head()"
   ]
  },
  {
   "cell_type": "code",
   "execution_count": 176,
   "metadata": {},
   "outputs": [],
   "source": [
    "X_train , X_test , Y_train , Y_test = train_test_split(X , Y , test_size = 0.3 , random_state = 2018)"
   ]
  },
  {
   "cell_type": "code",
   "execution_count": 177,
   "metadata": {},
   "outputs": [],
   "source": [
    "lnr = LinearRegression()"
   ]
  },
  {
   "cell_type": "code",
   "execution_count": 178,
   "metadata": {},
   "outputs": [
    {
     "data": {
      "text/plain": [
       "LinearRegression(copy_X=True, fit_intercept=True, n_jobs=None, normalize=False)"
      ]
     },
     "execution_count": 178,
     "metadata": {},
     "output_type": "execute_result"
    }
   ],
   "source": [
    "lnr.fit(X_train,Y_train)"
   ]
  },
  {
   "cell_type": "code",
   "execution_count": 179,
   "metadata": {},
   "outputs": [],
   "source": [
    "lnr_pred = lnr.predict(X_test)"
   ]
  },
  {
   "cell_type": "code",
   "execution_count": 180,
   "metadata": {},
   "outputs": [
    {
     "name": "stdout",
     "output_type": "stream",
     "text": [
      "0.7930041472180024\n"
     ]
    }
   ],
   "source": [
    "print(r2_score(Y_test,lnr_pred))"
   ]
  },
  {
   "cell_type": "code",
   "execution_count": 181,
   "metadata": {},
   "outputs": [],
   "source": [
    "from sklearn.preprocessing import PolynomialFeatures"
   ]
  },
  {
   "cell_type": "code",
   "execution_count": 182,
   "metadata": {},
   "outputs": [],
   "source": [
    "quad = PolynomialFeatures(degree=2)\n",
    "X_quad = quad.fit_transform(X)"
   ]
  },
  {
   "cell_type": "code",
   "execution_count": 183,
   "metadata": {},
   "outputs": [],
   "source": [
    "X_train ,X_test, Y_train, Y_test = train_test_split(X_quad, Y, test_size=0.3,random_state=30, shuffle=True)"
   ]
  },
  {
   "cell_type": "code",
   "execution_count": 184,
   "metadata": {},
   "outputs": [
    {
     "data": {
      "text/plain": [
       "LinearRegression(copy_X=True, fit_intercept=True, n_jobs=None, normalize=False)"
      ]
     },
     "execution_count": 184,
     "metadata": {},
     "output_type": "execute_result"
    }
   ],
   "source": [
    "quad_lnr = LinearRegression()\n",
    "quad_lnr.fit(X_train,Y_train)"
   ]
  },
  {
   "cell_type": "code",
   "execution_count": 185,
   "metadata": {},
   "outputs": [],
   "source": [
    "quad_lnr_pred = quad_lnr.predict(X_test)"
   ]
  },
  {
   "cell_type": "code",
   "execution_count": 186,
   "metadata": {},
   "outputs": [
    {
     "name": "stdout",
     "output_type": "stream",
     "text": [
      "0.807231771311542\n"
     ]
    }
   ],
   "source": [
    "print(r2_score(Y_test,quad_lnr_pred))"
   ]
  },
  {
   "cell_type": "code",
   "execution_count": 187,
   "metadata": {},
   "outputs": [],
   "source": [
    "X_train , X_test , Y_train , Y_test = train_test_split(X , Y , test_size = 0.3 , random_state = 2018)\n"
   ]
  },
  {
   "cell_type": "code",
   "execution_count": 188,
   "metadata": {},
   "outputs": [
    {
     "name": "stdout",
     "output_type": "stream",
     "text": [
      "0.8184828329144442\n"
     ]
    }
   ],
   "source": [
    "from sklearn.tree import DecisionTreeRegressor\n",
    "rgr_dt = DecisionTreeRegressor(criterion='mse',random_state=2018,max_depth=5)\n",
    "rgr_dt.fit(X_train,Y_train)\n",
    "rgr_dt_pred = rgr_dt.predict(X_test)\n",
    "print(r2_score(Y_test,rgr_dt_pred))"
   ]
  },
  {
   "cell_type": "code",
   "execution_count": 189,
   "metadata": {},
   "outputs": [
    {
     "name": "stderr",
     "output_type": "stream",
     "text": [
      "C:\\Users\\Faiz\\anaconda3\\lib\\site-packages\\ipykernel_launcher.py:3: DataConversionWarning: A column-vector y was passed when a 1d array was expected. Please change the shape of y to (n_samples,), for example using ravel().\n",
      "  This is separate from the ipykernel package so we can avoid doing imports until\n"
     ]
    },
    {
     "name": "stdout",
     "output_type": "stream",
     "text": [
      "0.8636812525640627\n"
     ]
    }
   ],
   "source": [
    "from sklearn.ensemble import RandomForestRegressor\n",
    "rgr_rf = RandomForestRegressor(criterion='mse',max_depth=5,random_state=2018)\n",
    "rgr_rf.fit(X_train,Y_train)\n",
    "rgr_rf_pred = rgr_rf.predict(X_test)\n",
    "print(r2_score(Y_test,rgr_rf_pred))"
   ]
  },
  {
   "cell_type": "code",
   "execution_count": 190,
   "metadata": {},
   "outputs": [],
   "source": [
    "from sklearn.externals import joblib"
   ]
  },
  {
   "cell_type": "code",
   "execution_count": 191,
   "metadata": {},
   "outputs": [
    {
     "data": {
      "text/plain": [
       "['RFModelforMPG.pkl']"
      ]
     },
     "execution_count": 191,
     "metadata": {},
     "output_type": "execute_result"
    }
   ],
   "source": [
    "joblib.dump(rgr_rf,'RFModelforMPG.pkl')"
   ]
  },
  {
   "cell_type": "code",
   "execution_count": 192,
   "metadata": {},
   "outputs": [],
   "source": [
    "modelReload=joblib.load('RFModelforMPG.pkl')"
   ]
  },
  {
   "cell_type": "code",
   "execution_count": 193,
   "metadata": {},
   "outputs": [
    {
     "data": {
      "text/plain": [
       "array([17.4511329 , 14.55598094, 16.38232436, 16.40801449, 17.14213816,\n",
       "       13.48303563, 13.47999991, 13.49683242, 12.76364466, 13.70182968,\n",
       "       15.91278923, 15.77135232, 14.39475694, 16.05503478, 24.47627307,\n",
       "       20.93201035, 20.68195723, 22.66319501, 26.14160731, 29.97674477,\n",
       "       24.0950904 , 24.14187608, 24.48365798, 24.30494119, 22.65388341,\n",
       "       11.26562365, 11.33470578, 11.900653  , 10.28552683, 26.14160731,\n",
       "       24.25681865, 24.85971732, 22.5374224 , 19.11675576, 17.82968398,\n",
       "       17.97798802, 19.08082334, 13.84987028, 13.33870176, 13.9498095 ,\n",
       "       14.10401875, 12.46225693, 12.93196274, 12.76034616, 18.52356731,\n",
       "       23.55579944, 17.90838701, 18.08992035, 24.45726638, 25.92188887,\n",
       "       28.98436506, 27.45822723, 32.16145638, 32.79053525, 30.72074024,\n",
       "       27.58221211, 24.60676159, 26.22270047, 26.92991492, 22.62547462,\n",
       "       24.31867843, 13.83653695, 13.35484591, 14.06723087, 13.97092061,\n",
       "       14.76162283, 12.4692015 , 13.17444503, 13.2854152 , 12.77754239,\n",
       "       22.67582322, 14.42786485, 14.54418532, 13.95055458, 14.0326182 ,\n",
       "       19.7419624 , 23.80968312, 20.60683767, 27.28282214, 23.68628951,\n",
       "       24.95294169, 23.87117121, 26.07871152, 26.51432039, 13.75716097,\n",
       "       14.76162283, 14.29196667, 14.48889024, 14.4375285 , 12.30737092,\n",
       "       13.51178251, 13.55918082, 13.87848213, 12.39517204, 12.33737092,\n",
       "       14.10946484, 19.24705183, 17.70347195, 19.23845424, 18.41838435,\n",
       "       20.73079643, 28.32240265, 12.44137477, 12.76428465, 13.08483358,\n",
       "       12.70186631, 20.49824172, 24.0493026 , 23.51562762, 24.17962304,\n",
       "       22.8379307 , 23.85806836, 23.00262109, 25.09885592, 14.18305   ,\n",
       "       13.51083989, 29.88353106, 25.87936563, 24.07137193, 20.23496531,\n",
       "       16.42574623, 23.76658558, 20.64433196, 13.8146757 , 19.84697196,\n",
       "       19.56382315, 17.71639893, 30.8926996 , 24.20264508, 31.541811  ,\n",
       "       24.00232765, 15.75530954, 17.50232102, 18.98421189, 14.79780235,\n",
       "       13.66635622, 14.12076662, 14.15153997, 14.48416962, 25.36784948,\n",
       "       29.7064446 , 25.40435713, 32.11381924, 30.84542561, 26.78849296,\n",
       "       26.90529024, 25.25680516, 23.99678709, 24.32229705, 29.8526946 ,\n",
       "       19.64297409, 18.02783463, 19.66106651, 19.22321657, 14.75029472,\n",
       "       14.64937236, 14.64130911, 14.51806359, 17.07325299, 16.14254875,\n",
       "       16.33309234, 16.91631277, 19.65931865, 18.31378584, 18.07094841,\n",
       "       26.69001459, 23.85656137, 19.52186103, 23.6322753 , 23.82269255,\n",
       "       26.32629849, 23.98686913, 19.93440903, 29.48011479, 19.46006056,\n",
       "       24.15226618, 20.61000965, 20.04433731, 23.83074188, 32.26177724,\n",
       "       24.32428536, 24.97739622, 23.99526769, 25.40958713, 25.91108462,\n",
       "       15.04677775, 14.88475018, 16.0388202 , 14.75302723, 19.72266806,\n",
       "       18.31287612, 21.4872945 , 20.00050731, 29.6155712 , 27.41570649,\n",
       "       29.29198701, 32.26177724, 18.37574267, 19.25634605, 17.9427697 ,\n",
       "       18.42051279, 30.45600647, 30.78641555, 26.86505157, 24.86257217,\n",
       "       19.99670885, 14.96075386, 20.77066185, 19.81975325, 16.91125919,\n",
       "       14.59069417, 14.64751115, 15.30412735, 14.81500828, 31.70478148,\n",
       "       27.39432062, 33.11249793, 24.91154722, 32.17248367, 16.70801642,\n",
       "       16.58299955, 15.68686397, 15.88292107, 18.39290442, 19.66493591,\n",
       "       19.44431866, 18.37726154, 15.63256665, 15.71328999, 15.51064998,\n",
       "       15.58921975, 29.04858611, 24.07146001, 26.55042993, 23.88003351,\n",
       "       31.20176826, 28.53558826, 31.4938189 , 27.61532299, 21.13683858,\n",
       "       24.05838422, 23.01471959, 40.77353745, 34.57284815, 37.03280916,\n",
       "       35.04502042, 34.82827581, 18.70295728, 18.00614673, 18.78482242,\n",
       "       19.62380834, 19.910685  , 21.89942264, 25.61720962, 19.72858325,\n",
       "       19.76709816, 19.68097306, 20.26858659, 19.57121882, 18.68509315,\n",
       "       18.64171799, 18.77525819, 18.74918194, 16.33801365, 32.25748377,\n",
       "       26.97719081, 29.15245079, 30.51104763, 27.48642007, 25.08883705,\n",
       "       23.31209406, 28.32391652, 22.76714339, 19.77390823, 24.40738242,\n",
       "       19.996414  , 33.61231312, 33.09829614, 20.32046482, 23.63770311,\n",
       "       24.85058293, 20.11717276, 20.03777699, 17.54694034, 18.46455681,\n",
       "       17.34450089, 17.46341582, 16.39238682, 16.40526599, 19.34250985,\n",
       "       17.50682886, 35.9522984 , 35.55468647, 34.55150411, 28.26466296,\n",
       "       23.72719992, 20.30840483, 26.1731413 , 21.36264581, 34.87038029,\n",
       "       34.10670805, 35.99672578, 34.87659487, 27.22097078, 27.13179879,\n",
       "       26.47038182, 29.88238482, 34.99705373, 36.02649009, 34.38575162,\n",
       "       35.69943566, 27.56138912, 25.97437854, 26.33723068, 20.65556393,\n",
       "       34.23419319, 28.70380892, 31.42133884, 32.53774703, 33.48654119,\n",
       "       35.55114011, 26.64570299, 36.00800399, 42.64991525, 40.84948221,\n",
       "       28.58451231, 27.94312682, 38.59349315, 34.63007672, 35.3349181 ,\n",
       "       26.9688628 , 29.8121659 , 31.94633636, 33.22109853, 30.90624086,\n",
       "       27.86364148, 27.64722044, 26.72246377, 32.18848054, 35.78626677,\n",
       "       35.81832253, 35.85593412, 34.84090121, 35.93989826, 35.43694768,\n",
       "       35.29921374, 34.07678136, 34.689325  , 33.21028559, 33.83006877,\n",
       "       33.96603126, 33.18828647, 29.75602653, 30.05750989, 25.80250408,\n",
       "       24.29463916, 26.01146213, 24.54609289, 20.66611475, 23.12996404,\n",
       "       21.40548426, 20.67837775, 29.43509326, 28.7124455 , 32.94388844,\n",
       "       30.06328693, 30.42079932, 27.49913368, 27.29953863, 34.73365682,\n",
       "       35.56265962, 35.27478954, 34.92456891, 34.3297435 , 34.41692164,\n",
       "       34.2215501 , 33.38209237, 35.71388733, 35.62134682, 35.53027444,\n",
       "       28.1649923 , 31.49097896, 28.16447393, 29.12122876, 27.93795276,\n",
       "       33.3856858 , 27.78703016, 27.77721948, 42.27926073, 33.36854886,\n",
       "       29.07163887, 29.26138592])"
      ]
     },
     "execution_count": 193,
     "metadata": {},
     "output_type": "execute_result"
    }
   ],
   "source": [
    "modelReload.predict(X)"
   ]
  },
  {
   "cell_type": "code",
   "execution_count": 199,
   "metadata": {},
   "outputs": [],
   "source": [
    "temp={}\n",
    "temp['cylinders']=8\n",
    "temp['displacement']=5\n",
    "temp['horsepower']=130\n",
    "temp['weight']=3504\n",
    "temp['acceleration']=12\n",
    "temp['model year']=70\n",
    "temp['origin']=1"
   ]
  },
  {
   "cell_type": "code",
   "execution_count": 200,
   "metadata": {},
   "outputs": [],
   "source": [
    "testDtaa=pd.DataFrame({'x':temp}).transpose()"
   ]
  },
  {
   "cell_type": "code",
   "execution_count": 201,
   "metadata": {},
   "outputs": [
    {
     "data": {
      "text/plain": [
       "30.981586719757043"
      ]
     },
     "execution_count": 201,
     "metadata": {},
     "output_type": "execute_result"
    }
   ],
   "source": [
    "modelReload.predict(testDtaa)[0]"
   ]
  },
  {
   "cell_type": "code",
   "execution_count": 197,
   "metadata": {},
   "outputs": [
    {
     "data": {
      "text/html": [
       "<div>\n",
       "<style scoped>\n",
       "    .dataframe tbody tr th:only-of-type {\n",
       "        vertical-align: middle;\n",
       "    }\n",
       "\n",
       "    .dataframe tbody tr th {\n",
       "        vertical-align: top;\n",
       "    }\n",
       "\n",
       "    .dataframe thead th {\n",
       "        text-align: right;\n",
       "    }\n",
       "</style>\n",
       "<table border=\"1\" class=\"dataframe\">\n",
       "  <thead>\n",
       "    <tr style=\"text-align: right;\">\n",
       "      <th></th>\n",
       "      <th>acceleration</th>\n",
       "      <th>cylinders</th>\n",
       "      <th>displacement</th>\n",
       "      <th>horsepower</th>\n",
       "      <th>model year</th>\n",
       "      <th>origin</th>\n",
       "      <th>weight</th>\n",
       "    </tr>\n",
       "  </thead>\n",
       "  <tbody>\n",
       "    <tr>\n",
       "      <th>x</th>\n",
       "      <td>12</td>\n",
       "      <td>8</td>\n",
       "      <td>307</td>\n",
       "      <td>130</td>\n",
       "      <td>70</td>\n",
       "      <td>1</td>\n",
       "      <td>3504</td>\n",
       "    </tr>\n",
       "  </tbody>\n",
       "</table>\n",
       "</div>"
      ],
      "text/plain": [
       "   acceleration  cylinders  displacement  horsepower  model year  origin  \\\n",
       "x            12          8           307         130          70       1   \n",
       "\n",
       "   weight  \n",
       "x    3504  "
      ]
     },
     "execution_count": 197,
     "metadata": {},
     "output_type": "execute_result"
    }
   ],
   "source": [
    "testDtaa"
   ]
  },
  {
   "cell_type": "code",
   "execution_count": null,
   "metadata": {},
   "outputs": [],
   "source": []
  }
 ],
 "metadata": {
  "kernelspec": {
   "display_name": "Python 3",
   "language": "python",
   "name": "python3"
  },
  "language_info": {
   "codemirror_mode": {
    "name": "ipython",
    "version": 3
   },
   "file_extension": ".py",
   "mimetype": "text/x-python",
   "name": "python",
   "nbconvert_exporter": "python",
   "pygments_lexer": "ipython3",
   "version": "3.7.6"
  }
 },
 "nbformat": 4,
 "nbformat_minor": 4
}
